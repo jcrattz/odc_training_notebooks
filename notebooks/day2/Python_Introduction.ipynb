{
 "cells": [
  {
   "cell_type": "markdown",
   "metadata": {},
   "source": [
    "# Python Introduction <img align=\"right\" src=\"../resources/ama_logo.jpg\" width=250 height=250>\n",
    "\n",
    "This section will discuss the programming language used in Open Data Cube code - Python."
   ]
  },
  {
   "cell_type": "markdown",
   "metadata": {
    "tags": []
   },
   "source": [
    "## Background\n",
    "Before we use the ODC in code, we first need to understand the programming language that the ODC runs in.\n",
    "\n",
    "For an more detailed Python programming tutorial, see [this tutorial](https://www.w3schools.com/python/python_intro.asp)."
   ]
  },
  {
   "cell_type": "markdown",
   "metadata": {
    "tags": []
   },
   "source": [
    "## Description\n",
    "\n",
    "Python topics covered include:\n",
    "\n",
    "* syntax\n",
    "* variables\n",
    "* data types\n",
    "* operators\n",
    "* control flow\n",
    "* commonly used functions\n",
    "* importing packages\n",
    "***"
   ]
  },
  {
   "cell_type": "markdown",
   "metadata": {
    "tags": []
   },
   "source": [
    "## Syntax\n",
    "\n",
    "### Indentation\n",
    "Indentation refers to the spaces at the beginning of a code line.\n",
    "\n",
    "Where in other programming languages the indentation in code is for readability only, the indentation in Python is very important.\n",
    "\n",
    "Python uses indentation to indicate a block of code.\n",
    "\n",
    "The following **`if`** block will always run. We will discuss control flow constructs like **`if`** later in this section. Some other things that can constitute code blocks are function and class definitions."
   ]
  },
  {
   "cell_type": "code",
   "execution_count": 1,
   "metadata": {},
   "outputs": [
    {
     "name": "stdout",
     "output_type": "stream",
     "text": [
      "Five is greater than two!\n"
     ]
    }
   ],
   "source": [
    "if 5 > 2:\n",
    "  print(\"Five is greater than two!\")"
   ]
  },
  {
   "cell_type": "markdown",
   "metadata": {},
   "source": [
    "### Comments\n",
    "\n",
    "Code comments can be used to explain code or avoid running some code.\n",
    "\n",
    "Single-line comments begin with the **`#`** character.\n",
    "\n",
    "Multiline comments begin and end with **`'''`**."
   ]
  },
  {
   "cell_type": "code",
   "execution_count": 5,
   "metadata": {},
   "outputs": [
    {
     "data": {
      "text/plain": [
       "'\\nThis is a multiline comment.\\n'"
      ]
     },
     "execution_count": 5,
     "metadata": {},
     "output_type": "execute_result"
    }
   ],
   "source": [
    "# This is a comment.\n",
    "'''\n",
    "This is a multiline comment.\n",
    "'''"
   ]
  },
  {
   "cell_type": "markdown",
   "metadata": {},
   "source": [
    "Note that multiline comments are actually strings, so in the cell above, the multiline string prints to the cell output."
   ]
  },
  {
   "cell_type": "markdown",
   "metadata": {},
   "source": [
    "## Variables\n",
    "\n",
    "Variables are names that reference objects.\n",
    "\n",
    "Note that a variable does not have a fixed type, but objects do.\n",
    "\n",
    "### Creation\n",
    "\n",
    "A variable is created the first time it has a value assigned to it.\n",
    "\n",
    "For example, the following cell defines a variable **`a`** that references the number `5`.\n"
   ]
  },
  {
   "cell_type": "code",
   "execution_count": 6,
   "metadata": {},
   "outputs": [],
   "source": [
    "a = 5"
   ]
  },
  {
   "cell_type": "markdown",
   "metadata": {},
   "source": [
    "### Naming rules\n",
    "\n",
    "There are some naming rules for variables.\n",
    "\n",
    "* Variable names can only contain alpha-numeric characters and underscores (a-z, A-Z, 0-9, and _ )\n",
    "* Variable names cannot start with a number.\n",
    "* Variable names are case-sensitive (age, Age and AGE are three different variables)\n",
    "\n",
    "For example, `2a = 5` is invalid syntax, but `a2 = 5` is valid syntax.\n",
    "\n",
    "### Multiple assignment\n",
    "\n",
    "Multiple variables can be assigned to simultaneously, as shown in the following example."
   ]
  },
  {
   "cell_type": "code",
   "execution_count": 11,
   "metadata": {},
   "outputs": [
    {
     "name": "stdout",
     "output_type": "stream",
     "text": [
      "1 2 3\n"
     ]
    }
   ],
   "source": [
    "a,b,c = 1,2,3\n",
    "print(a,b,c)"
   ]
  },
  {
   "cell_type": "markdown",
   "metadata": {
    "tags": []
   },
   "source": [
    "## Data types\n",
    "\n",
    "There are many data types that objects can have in Python.\n",
    "\n",
    "In the variable declaration example above, the variable `a` was assigned the value `5`, which is an integer.\n",
    "\n",
    "There are many kinds of types in Python - built-in types and user-defined types.\n",
    "\n",
    "We will only discuss built-in types in this section.\n",
    "\n",
    "### Built-in types\n",
    "\n",
    "Built-in types are types that are part of Python.\n",
    "\n",
    "There are 2 types: normal types and containers - but fundamentally instances all types are Python objects.\n",
    "\n",
    "#### Normal Types\n",
    "\n",
    "Normal types are any types that do not primarily serve as containers of other objects.\n",
    "\n",
    "The types listed here are some of the most commonly used normal types.\n",
    "\n",
    ">##### Numbers\n",
    "\n",
    "There are 2 types of numbers in Python: integers, such as `5`, and floats, such as `1.5`.\n",
    "\n",
    "Integers have the type `int` and floats have the type `float`.\n",
    "\n",
    ">##### Strings\n",
    "\n",
    "TODO: slicing, concatenating, formatting, link to methods\n",
    "\n",
    ">##### Booleans\n",
    "\n",
    "TODO\n",
    "\n",
    "#### Containers\n",
    "\n",
    "Containers types are any types that primarily serve as containers of other objects.\n",
    "\n",
    "The objects that a container contains are called the container's elements.\n",
    "\n",
    "The types listed here are some of the most commonly used container types.\n",
    "\n",
    ">##### Lists\n",
    "\n",
    "Lists are ordered collections of objects. They can be created like this `[value1, value2, ...]`. For example:"
   ]
  },
  {
   "cell_type": "code",
   "execution_count": 22,
   "metadata": {},
   "outputs": [],
   "source": [
    "mylist = [1,2,3]"
   ]
  },
  {
   "cell_type": "markdown",
   "metadata": {},
   "source": [
    "Elements can be added to the list with the `append()` method:"
   ]
  },
  {
   "cell_type": "code",
   "execution_count": 26,
   "metadata": {},
   "outputs": [
    {
     "data": {
      "text/plain": [
       "[1, 2, 3, 4]"
      ]
     },
     "execution_count": 26,
     "metadata": {},
     "output_type": "execute_result"
    }
   ],
   "source": [
    "mylist.append(4)\n",
    "mylist"
   ]
  },
  {
   "cell_type": "markdown",
   "metadata": {},
   "source": [
    "Elements can be removed from the list with the `remove()` method:"
   ]
  },
  {
   "cell_type": "code",
   "execution_count": 27,
   "metadata": {},
   "outputs": [
    {
     "data": {
      "text/plain": [
       "[1, 2, 3]"
      ]
     },
     "execution_count": 27,
     "metadata": {},
     "output_type": "execute_result"
    }
   ],
   "source": [
    "mylist.remove(4)\n",
    "mylist"
   ]
  },
  {
   "cell_type": "markdown",
   "metadata": {},
   "source": [
    "Elements can be accessed and changed by their position in the list, with the first element having the index `0`."
   ]
  },
  {
   "cell_type": "code",
   "execution_count": 40,
   "metadata": {},
   "outputs": [
    {
     "name": "stdout",
     "output_type": "stream",
     "text": [
      "First element: 1\n",
      "First element after change: 5\n"
     ]
    }
   ],
   "source": [
    "print(\"First element:\", mylist[0])\n",
    "mylist2 = mylist.copy()\n",
    "mylist2[0] = 5\n",
    "print(\"First element after change:\", mylist2[0])"
   ]
  },
  {
   "cell_type": "markdown",
   "metadata": {},
   "source": [
    "You can also merge lists with the `extend()` or `+` operators."
   ]
  },
  {
   "cell_type": "code",
   "execution_count": 42,
   "metadata": {},
   "outputs": [
    {
     "data": {
      "text/plain": [
       "[5, 2, 3, 1, 2, 3]"
      ]
     },
     "execution_count": 42,
     "metadata": {},
     "output_type": "execute_result"
    }
   ],
   "source": [
    "mylist3 = mylist2.copy()\n",
    "mylist3.extend(mylist)\n",
    "mylist3"
   ]
  },
  {
   "cell_type": "markdown",
   "metadata": {},
   "source": [
    ">##### Tuples\n",
    "\n",
    "TODO: Essentially lists whose elements cannot be replaced. Can use a tuple to clarify that its elements are only constant values.\n",
    "\n",
    ">##### Dictionaries\n",
    "\n",
    "Dictionaries map values to other values. \n",
    "\n",
    "Dictionaries have the type `dict` and can be constructed like this `{key1:value1, key2:value2, ...}`.\n",
    "\n",
    "For example, the number of occurrences of values in a list could be represented as a map of the values to the number of occurrences of those values. For the list `[1,1,2,2,2,3,3,4]`, this dictionary would be `{1:2, 2:3, 3:2, 4:1}`.\n",
    "\n",
    "Dictionaries are also frequently called maps in Python and other programming languages.\n",
    "\n",
    "TODO\n",
    "\n",
    ">##### Sets\n",
    "\n",
    "TODO\n",
    "\n",
    "### Type checking\n",
    "\n",
    "TODO\n",
    "\n",
    "### Type casting\n",
    "\n",
    "TODO"
   ]
  },
  {
   "cell_type": "markdown",
   "metadata": {},
   "source": [
    "## Operators\n",
    "\n",
    "Operators are special combinations of characters used to perform operations on variables and values.\n",
    "\n",
    "### Unary\n",
    "\n",
    "Some operators only operate on 1 value. These are called unary operators.\n",
    "\n",
    "Th\n",
    "\n",
    "TODO: Discuss (1) the `not` keyword, (2) dictionary unpacking - particularly its use in specifying reusable sets of arguments for functions - (3) the `len()` function.\n",
    "\n",
    "### Binary\n",
    "\n",
    "TODO: Mention =, +, -, \\*, /, %, \\*\\*, //, and how there are assignment convenience operators like +=\n"
   ]
  },
  {
   "cell_type": "markdown",
   "metadata": {},
   "source": [
    "## Control flow\n",
    "\n",
    "### Branching\n",
    "\n",
    "TODO\n",
    "\n",
    "### Looping\n",
    "\n",
    "#### While loop\n",
    "\n",
    "TODO\n",
    "\n",
    "#### For loop\n",
    "\n",
    "TODO\n",
    "\n",
    "#### Foreach loop\n",
    "\n",
    ">##### lists and sets (lists iterate in order, sets not)\n",
    "\n",
    "TODO\n",
    "\n",
    ">##### Dictionaries (default iterates over keys, use items() for both, values() for values)\n",
    "\n",
    "TODO\n",
    "\n",
    "#### Comprehensions\n",
    "\n",
    "TODO: same mechanics as foreach loops, supports lists, dictionaries, sets\n"
   ]
  },
  {
   "cell_type": "markdown",
   "metadata": {
    "jp-MarkdownHeadingCollapsed": true,
    "tags": []
   },
   "source": [
    "## Commonly Used Functions\n",
    "\n",
    "### Sorting\n",
    "\n",
    "TODO: sorted(obj)\n",
    "\n",
    "### Copy\n",
    "\n",
    "TODO: import copy; copy.deepcopy() - explain shallow vs deep copying"
   ]
  },
  {
   "cell_type": "markdown",
   "metadata": {},
   "source": [
    "## Importing packages\n",
    "\n",
    "Any imported resources, such as functions, are usually imported at the beginning of a notebook. We import resources with the `import` keyword. Below is an example of such a code cell.\n",
    "\n",
    "TODO: Insert code cell of imports here.\n",
    "\n",
    "There are typically 3 kinds package imports:\n",
    "* built-in\n",
    "* external\n",
    "* local\n",
    "\n",
    "**Built-in** packages come with Python, such as `sys` and `os`, which allow access to the environment outside the Python interpreter such as environment variables (`os.environ`) and the system path (`sys.path`). In this case, we are appending the path to the root directory containing notebooks because it also contains a directory called `utils`, which contains Python files from which we import functions.\n",
    "\n",
    "**External** packages are obtained from package repositories. Some very common packages to import include `matplotlib`, `numpy`, `xarray`, and `pandas`, which we will discuss in future sections. For now, just know that they are common to import.\n",
    "\n",
    "**Local** packages are stored on the filesystem as Python files (`.py`). These are often called \"utilities\"."
   ]
  },
  {
   "cell_type": "markdown",
   "metadata": {},
   "source": [
    "### Advanced topics"
   ]
  }
 ],
 "metadata": {
  "kernelspec": {
   "display_name": "Python 3",
   "language": "python",
   "name": "python3"
  },
  "language_info": {
   "codemirror_mode": {
    "name": "ipython",
    "version": 3
   },
   "file_extension": ".py",
   "mimetype": "text/x-python",
   "name": "python",
   "nbconvert_exporter": "python",
   "pygments_lexer": "ipython3",
   "version": "3.6.9"
  },
  "toc-autonumbering": false,
  "toc-showcode": false,
  "widgets": {
   "application/vnd.jupyter.widget-state+json": {
    "state": {},
    "version_major": 2,
    "version_minor": 0
   }
  }
 },
 "nbformat": 4,
 "nbformat_minor": 4
}
