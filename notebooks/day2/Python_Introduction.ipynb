{
 "cells": [
  {
   "cell_type": "markdown",
   "metadata": {},
   "source": [
    "# Python Introduction <img align=\"right\" src=\"../resources/ama_logo.jpg\" width=250 height=250>\n",
    "\n",
    "This section will discuss the programming language used in Open Data Cube (ODC) code - Python."
   ]
  },
  {
   "cell_type": "markdown",
   "metadata": {
    "tags": []
   },
   "source": [
    "## Background\n",
    "Before we use the ODC in code, we first need to understand the programming language that the ODC runs in.\n",
    "\n",
    "For an more detailed Python programming tutorial, see [this tutorial](https://www.w3schools.com/python/python_intro.asp)."
   ]
  },
  {
   "cell_type": "markdown",
   "metadata": {
    "tags": []
   },
   "source": [
    "## Description\n",
    "\n",
    "Python topics covered include:\n",
    "\n",
    "* syntax\n",
    "* variables\n",
    "* data types\n",
    "* operators\n",
    "* control flow\n",
    "* commonly used functions\n",
    "* importing packages\n",
    "***"
   ]
  },
  {
   "cell_type": "markdown",
   "metadata": {
    "tags": []
   },
   "source": [
    "## Syntax\n",
    "\n",
    "### Indentation\n",
    "Indentation refers to the spaces at the beginning of a code line.\n",
    "\n",
    "Where in other programming languages the indentation in code is for readability only, the indentation in Python is very important.\n",
    "\n",
    "Python uses indentation to indicate a block of code.\n",
    "\n",
    "The following **`if`** block will always run. We will discuss control flow constructs like **`if`** later in this section. Some other things that can constitute code blocks are function and class definitions."
   ]
  },
  {
   "cell_type": "code",
   "execution_count": 1,
   "metadata": {},
   "outputs": [
    {
     "name": "stdout",
     "output_type": "stream",
     "text": [
      "Five is greater than two!\n"
     ]
    }
   ],
   "source": [
    "if 5 > 2:\n",
    "  print(\"Five is greater than two!\")"
   ]
  },
  {
   "cell_type": "markdown",
   "metadata": {},
   "source": [
    "### Comments\n",
    "\n",
    "Code comments can be used to explain code or avoid running some code.\n",
    "\n",
    "Single-line comments begin with the **`#`** character.\n",
    "\n",
    "Multiline comments begin and end with **`'''`**."
   ]
  },
  {
   "cell_type": "code",
   "execution_count": 5,
   "metadata": {},
   "outputs": [
    {
     "data": {
      "text/plain": [
       "'\\nThis is a multiline comment.\\n'"
      ]
     },
     "execution_count": 5,
     "metadata": {},
     "output_type": "execute_result"
    }
   ],
   "source": [
    "# This is a comment.\n",
    "'''\n",
    "This is a multiline comment.\n",
    "'''"
   ]
  },
  {
   "cell_type": "markdown",
   "metadata": {},
   "source": [
    "Note that multiline comments are actually strings, so in the cell above, the multiline string prints to the cell output."
   ]
  },
  {
   "cell_type": "markdown",
   "metadata": {},
   "source": [
    "## Variables\n",
    "\n",
    "A variable is a name that references an object. An object is a collection of attributes and actions. For example, a number has a value (an attribute) and can be used in arithmetic expressions with other numbers (actions).\n",
    "\n",
    "Note that a variable does not have a fixed type, but objects do.\n",
    "\n",
    "### Creation\n",
    "\n",
    "A variable is created the first time it has a value assigned to it.\n",
    "\n",
    "For example, the following cell defines a variable **`a`** that references the object `5`. "
   ]
  },
  {
   "cell_type": "code",
   "execution_count": 6,
   "metadata": {},
   "outputs": [],
   "source": [
    "a = 5"
   ]
  },
  {
   "cell_type": "markdown",
   "metadata": {},
   "source": [
    "### Naming rules\n",
    "\n",
    "There are some naming rules for variables.\n",
    "\n",
    "* Variable names can only contain alpha-numeric characters and underscores (a-z, A-Z, 0-9, and _)\n",
    "* Variable names cannot start with a number.\n",
    "* Variable names are case-sensitive (age, Age and AGE are three different variables)\n",
    "\n",
    "For example, `2a = 5` is invalid syntax, but `a2 = 5` is valid syntax.\n",
    "\n",
    "### Multiple assignment\n",
    "\n",
    "Multiple variables can be assigned values in 1 step (or \"statement\"), as shown in the following example."
   ]
  },
  {
   "cell_type": "code",
   "execution_count": 11,
   "metadata": {},
   "outputs": [
    {
     "name": "stdout",
     "output_type": "stream",
     "text": [
      "1 2 3\n"
     ]
    }
   ],
   "source": [
    "a,b,c = 1,2,3\n",
    "print(a,b,c)"
   ]
  },
  {
   "cell_type": "markdown",
   "metadata": {
    "tags": []
   },
   "source": [
    "## Data types\n",
    "\n",
    "There are many data types that objects can have in Python.\n",
    "\n",
    "In the variable declaration example above, the variable `a` was assigned the value `5`, which is an integer.\n",
    "\n",
    "There are built-in types and user-defined types in Python.\n",
    "\n",
    "We will only discuss built-in types in this section.\n",
    "\n",
    "### Built-in types\n",
    "\n",
    "Built-in types are part of Python itself.\n",
    "\n",
    "There are 2 collections of types, with both collections including built-in and user-defined types. These collections are normal types and containers, but instances of all types are Python objects.\n",
    "\n",
    "#### Normal Types\n",
    "\n",
    "Normal types are any types that do not primarily serve as containers of other objects. They can contain other objects and even containers, but containing objects is not their primary purpose.\n",
    "\n",
    "The types listed here are some of the most commonly used normal types.\n",
    "\n",
    ">##### Numbers\n",
    "\n",
    "There are 2 types of numbers in Python: integers, such as `5`, and floats, such as `1.5`.\n",
    "\n",
    "Integers have the type `int` and floats have the type `float`.\n",
    "\n",
    ">##### Strings\n",
    "\n",
    "Strings can be defined with single quotes (`''`), double quotes (`\"\"`), or as a multiline string with triple quotes (`''' '''` or `\"\"\" \"\"\"`). For example:"
   ]
  },
  {
   "cell_type": "code",
   "execution_count": 32,
   "metadata": {},
   "outputs": [
    {
     "name": "stdout",
     "output_type": "stream",
     "text": [
      "mystr: String\n",
      "Multiline string: \n",
      "First line\n",
      "Second line\n",
      "Multiline string without using line continuation characters: \n",
      "        \n",
      "First line\n",
      "Second line\n",
      "\n"
     ]
    }
   ],
   "source": [
    "mystr = \"String\"\n",
    "print(f\"mystr: {mystr}\")\n",
    "\n",
    "multiline_str = '''\\\n",
    "First line\n",
    "Second line\\\n",
    "'''\n",
    "# \\n is the \"new line\" character\n",
    "print(f\"Multiline string: \\n{multiline_str}\")\n",
    "# \\ at the end of a line is a line continuation character in Python.\n",
    "# If these were removed, every new line in the multiline string\n",
    "# will be part of the string itself. In this example, \n",
    "# the line continuation characters are removed, so the\n",
    "# string has a newline at the beginning and end.\n",
    "multiline_str_no_line_continuation = '''\n",
    "First line\n",
    "Second line\n",
    "'''\n",
    "print(\"Multiline string without using \"\n",
    "      f\"line continuation characters: \\n\\\n",
    "        {multiline_str_no_line_continuation}\")"
   ]
  },
  {
   "cell_type": "markdown",
   "metadata": {},
   "source": [
    "The strings that begin with `f` and contain expressions in curly brackets (`{}`) are called \"format strings\", or \"f-strings\". You can read more about them [here](https://docs.python.org/3/tutorial/inputoutput.html#formatted-string-literals).\n",
    "\n",
    "A character in a string can be accessed by its index. Multiple characters can be selected with a slice, which has the format `[low_index:high_index:stride]`, where `low_index` is the starting index value (default: `0`), `high_index` is the index value after the highest index value that can be included (default: 1 more than the number of elements - the elements being characters for strings), and `stride` is the number of positions to move for each element. For example:"
   ]
  },
  {
   "cell_type": "code",
   "execution_count": 38,
   "metadata": {},
   "outputs": [
    {
     "name": "stdout",
     "output_type": "stream",
     "text": [
      "First character in mystr: S\n",
      "First 3 characters in mystr: Str\n",
      "Characters in mystr with even indices ([0,2,4]): Srn\n",
      "Characters in mystr with odd indices ([1,3,5]): tig\n"
     ]
    }
   ],
   "source": [
    "print(f\"First character in mystr: {mystr[0]}\")\n",
    "print(f\"First 3 characters in mystr: {mystr[:3]}\")\n",
    "print(f\"Characters in mystr with even indices ([0,2,4]): {mystr[::2]}\")\n",
    "print(f\"Characters in mystr with odd indices ([1,3,5]): {mystr[1::2]}\")"
   ]
  },
  {
   "cell_type": "markdown",
   "metadata": {},
   "source": [
    "Strings can be combined, or \"concatenated\", by adding them with the `+` operator."
   ]
  },
  {
   "cell_type": "code",
   "execution_count": 40,
   "metadata": {},
   "outputs": [
    {
     "data": {
      "text/plain": [
       "'Hello, World'"
      ]
     },
     "execution_count": 40,
     "metadata": {},
     "output_type": "execute_result"
    }
   ],
   "source": [
    "substring1 = \"Hello, \"\n",
    "substring2 = \"World\"\n",
    "substring1 + substring2"
   ]
  },
  {
   "cell_type": "markdown",
   "metadata": {},
   "source": [
    "You can check if a string contains another string with the `in` operator:"
   ]
  },
  {
   "cell_type": "code",
   "execution_count": 41,
   "metadata": {},
   "outputs": [
    {
     "data": {
      "text/plain": [
       "True"
      ]
     },
     "execution_count": 41,
     "metadata": {},
     "output_type": "execute_result"
    }
   ],
   "source": [
    "\"Hello\" in \"Hello, World\""
   ]
  },
  {
   "cell_type": "markdown",
   "metadata": {},
   "source": [
    ">##### Booleans\n",
    "\n",
    "Booleans represent one of two values: `True` or `False`.\n",
    "\n",
    "Logical operators return Boolean values. For example:"
   ]
  },
  {
   "cell_type": "code",
   "execution_count": 43,
   "metadata": {},
   "outputs": [
    {
     "name": "stdout",
     "output_type": "stream",
     "text": [
      "10 > 9: True\n",
      "10 == 9: False\n",
      "10 < 9: False\n"
     ]
    }
   ],
   "source": [
    "print(f'10 > 9: {10 > 9}')\n",
    "print(f'10 == 9: {10 == 9}')\n",
    "print(f'10 < 9: {10 < 9}')"
   ]
  },
  {
   "cell_type": "markdown",
   "metadata": {},
   "source": [
    "#### Containers\n",
    "\n",
    "Container types are any types that primarily serve as containers of other objects.\n",
    "\n",
    "The objects that a container contains are called the container's elements.\n",
    "\n",
    "The types listed here are some of the most commonly used container types.\n",
    "\n",
    ">##### Lists\n",
    "\n",
    "Lists are ordered (not necessarily sorted) collections of objects. \n",
    "\n",
    "The elements do not need to have the same type. \n",
    "\n",
    "Lists can be created like this `[value1, value2, ...]`. For example:"
   ]
  },
  {
   "cell_type": "code",
   "execution_count": 51,
   "metadata": {},
   "outputs": [],
   "source": [
    "mylist = [1,2,3]"
   ]
  },
  {
   "cell_type": "markdown",
   "metadata": {},
   "source": [
    "Elements can be added to the list with the `append()` method and removed with the `remove()` method:"
   ]
  },
  {
   "cell_type": "code",
   "execution_count": 53,
   "metadata": {},
   "outputs": [
    {
     "name": "stdout",
     "output_type": "stream",
     "text": [
      "List after append: [1, 2, 3, 4]\n",
      "List after remove: [1, 2, 3]\n"
     ]
    }
   ],
   "source": [
    "mylist.append(4)\n",
    "print(\"List after append:\", mylist)\n",
    "mylist.remove(4)\n",
    "print(\"List after remove:\", mylist)"
   ]
  },
  {
   "cell_type": "markdown",
   "metadata": {},
   "source": [
    "Elements can be accessed and changed by their position in the list, with the first element having the index `0`."
   ]
  },
  {
   "cell_type": "code",
   "execution_count": 45,
   "metadata": {},
   "outputs": [
    {
     "name": "stdout",
     "output_type": "stream",
     "text": [
      "First element: 1\n",
      "First element after change: 5\n"
     ]
    }
   ],
   "source": [
    "print(\"First element:\", mylist[0])\n",
    "mylist2 = mylist.copy()\n",
    "mylist2[0] = 5\n",
    "print(\"First element after change:\", mylist2[0])"
   ]
  },
  {
   "cell_type": "markdown",
   "metadata": {},
   "source": [
    "You can also merge lists with the `extend()` or `+` operators."
   ]
  },
  {
   "cell_type": "code",
   "execution_count": 48,
   "metadata": {},
   "outputs": [
    {
     "data": {
      "text/plain": [
       "[1, 2, 3, 5, 2, 3]"
      ]
     },
     "execution_count": 48,
     "metadata": {},
     "output_type": "execute_result"
    }
   ],
   "source": [
    "mylist3 = mylist.copy()\n",
    "mylist3.extend(mylist2)\n",
    "mylist3"
   ]
  },
  {
   "cell_type": "code",
   "execution_count": 49,
   "metadata": {},
   "outputs": [
    {
     "data": {
      "text/plain": [
       "[1, 2, 3, 5, 2, 3]"
      ]
     },
     "execution_count": 49,
     "metadata": {},
     "output_type": "execute_result"
    }
   ],
   "source": [
    "mylist + mylist2 "
   ]
  },
  {
   "cell_type": "markdown",
   "metadata": {},
   "source": [
    ">##### Tuples\n",
    "\n",
    "Tuples are lists that cannot add, remove, or replace elements.\n",
    "\n",
    "Tuples are often used where lists are used, but using a tuple clarifies that its elements are constant.\n",
    "\n",
    "The elements do not need to have the same type.\n",
    "\n",
    "Tuples have the type `tuple` and can be created like this `(value1, value2, ...)`. To create a tuple with a single item, put a comma after the single element. For example:"
   ]
  },
  {
   "cell_type": "code",
   "execution_count": 59,
   "metadata": {},
   "outputs": [],
   "source": [
    "mytuple = (1,2,3)\n",
    "single_element_tuple = (1,)"
   ]
  },
  {
   "cell_type": "markdown",
   "metadata": {},
   "source": [
    ">##### Dictionaries\n",
    "\n",
    "Dictionaries map values (\"keys\") to other values (\"values\"). A single pair of a key and its value is called an item. They are frequently called maps in Python and other programming languages.\n",
    "\n",
    "Dictionaries have the type `dict` and can be created like this `{key1:value1, key2:value2, ...}`.\n",
    "\n",
    "For example, the number of occurrences of values in a list could be represented as a map of the values to the number of occurrences of those values. For the list `[1,1,2,2,2,3,3,4]`, this dictionary would be `{1:2, 2:3, 3:2, 4:1}`.\n",
    "\n",
    "Using indexing syntax, a dictionary value can be accessed or changed by its key and a dictionary item can be added and removed by its key (using the `del` keyword). For example:"
   ]
  },
  {
   "cell_type": "code",
   "execution_count": 57,
   "metadata": {},
   "outputs": [
    {
     "name": "stdout",
     "output_type": "stream",
     "text": [
      "Value for key 1: 2\n",
      "mydictionary after changing the value of key 1 to 5:\n",
      "{1: 5, 2: 3, 3: 2, 4: 1}\n",
      "mydictionary after adding item with key 5:\n",
      "{1: 5, 2: 3, 3: 2, 4: 1, 5: 0}\n",
      "mydictionary after removing item with key 5:\n",
      "{1: 5, 2: 3, 3: 2, 4: 1}\n"
     ]
    }
   ],
   "source": [
    "mydictionary = {1:2, 2:3, 3:2, 4:1}\n",
    "\n",
    "# Accessing values\n",
    "print(f'Value for key 1: {mydictionary[1]}')\n",
    "\n",
    "# Changing values\n",
    "mydictionary[1] = 5\n",
    "print('mydictionary after changing the value of key 1 to 5:\\n'\n",
    "      f'{mydictionary}')\n",
    "\n",
    "# Adding new item\n",
    "mydictionary[5] = 0\n",
    "print('mydictionary after adding item with key 5:\\n'\n",
    "      f'{mydictionary}')\n",
    "\n",
    "# Removing item\n",
    "del mydictionary[5]\n",
    "print('mydictionary after removing item with key 5:\\n'\n",
    "      f'{mydictionary}')"
   ]
  },
  {
   "cell_type": "markdown",
   "metadata": {
    "jp-MarkdownHeadingCollapsed": true,
    "tags": []
   },
   "source": [
    ">##### Sets\n",
    "\n",
    "Sets are unordered collections of unique values.\n",
    "\n",
    "Sets have the type `set` and can be created like this `{value1, value2, ...}`.\n",
    "\n",
    "Elements can be added to a set with the `add()` method and removed with the `remove()` method. A logical union or intersection of elements from other containers (not just sets) can be obtained with the `union()` and `intersection()` methods."
   ]
  },
  {
   "cell_type": "code",
   "execution_count": 73,
   "metadata": {},
   "outputs": [
    {
     "name": "stdout",
     "output_type": "stream",
     "text": [
      "myset: {1}\n",
      "otherset: {1, 2, 3}\n",
      "\n",
      "myset after adding 2: {1, 2}\n",
      "myset after removing 2: {1}\n",
      "union of myset and otherset: {1, 2, 3}\n",
      "intersection of myset and otherset: {1}\n"
     ]
    }
   ],
   "source": [
    "myset = {1}\n",
    "otherset = {1,2,3}\n",
    "print(f'myset: {myset}')\n",
    "print(f'otherset: {otherset}\\n')\n",
    "\n",
    "# Adding new element\n",
    "myset.add(2)\n",
    "print(f'myset after adding 2: {myset}')\n",
    "\n",
    "# Removing element\n",
    "myset.remove(2)\n",
    "print(f'myset after removing 2: {myset}')\n",
    "\n",
    "# Union and Intersection\n",
    "print(f'union of myset and otherset: {myset.union(otherset)}')\n",
    "print(f'intersection of myset and otherset: {myset.intersection(otherset)}')"
   ]
  },
  {
   "cell_type": "markdown",
   "metadata": {},
   "source": [
    "### Type checking\n",
    "\n",
    "TODO\n",
    "\n",
    "### Type casting\n",
    "\n",
    "TODO"
   ]
  },
  {
   "cell_type": "markdown",
   "metadata": {},
   "source": [
    "## Operators\n",
    "\n",
    "Operators are special combinations of characters used to perform operations on variables and values.\n",
    "\n",
    "### Unary\n",
    "\n",
    "Some operators only operate on 1 value. These are called unary operators.\n",
    "\n",
    "Th\n",
    "\n",
    "TODO: Discuss (1) the `not` keyword, (2) dictionary unpacking - particularly its use in specifying reusable sets of arguments for functions - (3) the `len()` function.\n",
    "\n",
    "### Binary\n",
    "\n",
    "TODO: Mention =, +, -, \\*, /, %, \\*\\*, //, and how there are assignment convenience operators like +=\n"
   ]
  },
  {
   "cell_type": "markdown",
   "metadata": {},
   "source": [
    "## Control flow\n",
    "\n",
    "### Branching\n",
    "\n",
    "TODO\n",
    "\n",
    "### Looping\n",
    "\n",
    "#### While loop\n",
    "\n",
    "TODO\n",
    "\n",
    "#### For loop\n",
    "\n",
    "TODO\n",
    "\n",
    "#### Foreach loop\n",
    "\n",
    ">##### lists and sets (lists iterate in order, sets not)\n",
    "\n",
    "TODO\n",
    "\n",
    ">##### Dictionaries (default iterates over keys, use items() for both, values() for values)\n",
    "\n",
    "TODO\n",
    "\n",
    "#### Comprehensions\n",
    "\n",
    "TODO: same mechanics as foreach loops, supports lists, dictionaries, sets\n"
   ]
  },
  {
   "cell_type": "markdown",
   "metadata": {
    "jp-MarkdownHeadingCollapsed": true,
    "tags": []
   },
   "source": [
    "## Commonly Used Functions\n",
    "\n",
    "### Sorting\n",
    "\n",
    "TODO: sorted(obj)\n",
    "\n",
    "### Copy\n",
    "\n",
    "TODO: import copy; copy.deepcopy() - explain shallow vs deep copying"
   ]
  },
  {
   "cell_type": "markdown",
   "metadata": {},
   "source": [
    "## Importing packages\n",
    "\n",
    "Any imported resources, such as functions, are usually imported at the beginning of a notebook. We import resources with the `import` keyword. Below is an example of such a code cell.\n",
    "\n",
    "TODO: Insert code cell of imports here.\n",
    "\n",
    "There are typically 3 kinds package imports:\n",
    "* built-in\n",
    "* external\n",
    "* local\n",
    "\n",
    "**Built-in** packages come with Python, such as `sys` and `os`, which allow access to the environment outside the Python interpreter such as environment variables (`os.environ`) and the system path (`sys.path`). In this case, we are appending the path to the root directory containing notebooks because it also contains a directory called `utils`, which contains Python files from which we import functions.\n",
    "\n",
    "**External** packages are obtained from package repositories. Some very common packages to import include `matplotlib`, `numpy`, `xarray`, and `pandas`, which we will discuss in future sections. For now, just know that they are common to import.\n",
    "\n",
    "**Local** packages are stored on the filesystem as Python files (`.py`). These are often called \"utilities\"."
   ]
  }
 ],
 "metadata": {
  "kernelspec": {
   "display_name": "Python 3",
   "language": "python",
   "name": "python3"
  },
  "language_info": {
   "codemirror_mode": {
    "name": "ipython",
    "version": 3
   },
   "file_extension": ".py",
   "mimetype": "text/x-python",
   "name": "python",
   "nbconvert_exporter": "python",
   "pygments_lexer": "ipython3",
   "version": "3.6.9"
  },
  "toc-autonumbering": false,
  "toc-showcode": false,
  "widgets": {
   "application/vnd.jupyter.widget-state+json": {
    "state": {},
    "version_major": 2,
    "version_minor": 0
   }
  }
 },
 "nbformat": 4,
 "nbformat_minor": 4
}
