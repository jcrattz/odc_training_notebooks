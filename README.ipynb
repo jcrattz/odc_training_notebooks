{
 "cells": [
  {
   "cell_type": "markdown",
   "metadata": {},
   "source": [
    "# AMA Open Data Cube Drone Paper Notebooks\n",
    "\n",
    "The AMA Open Data Cube Drone Paper Notebooks is a collection of [Jupyter Notebooks](https://jupyter.org/) using the [Open Data Cube](https://www.opendatacube.org/) to analyze satellite data and drone data.\n",
    "\n",
    "For an overview of the available notebooks, see the [Notebooks Overview](docs/notebooks_overview.md) document.\n",
    "\n",
    "## Installation\n",
    "-------\n",
    "\n",
    "First follow the instructions in the [Docker Installation Guide](https://github.com/ceos-seo/data_cube_ui/blob/master/docs/docker_install.md) if you do not have Docker installed yet.\n",
    "\n",
    "Follow the instructions in the [Open Data Cube Database Installation Guide](https://github.com/ceos-seo/data_cube_ui/blob/master/docs/odc_db_setup.md) to setup the Open Data Cube (ODC) database.\n",
    "\n",
    "Follow the instructions in the [Notebooks Installation Guide](docs/notebook_install.md) to set up the Jupyter Notebook environment.\n",
    "\n",
    "## Obtaining Help\n",
    "-------\n",
    "\n",
    "If you encounter issues with the Open Data Cube or these notebooks that are not documented in the documents linked to above or the other files in the `docs` directory (remember to check the FAQ sections) and you are unable to diagnose and fix those issues on your own, follow these steps to obtain assistance:\n",
    "1. Search for your question in the [GIS Stack Exchange](https://gis.stackexchange.com/) with the `open-data-cube` tag. You can find such tagged questions [here](https://gis.stackexchange.com/questions/tagged/open-data-cube). If a question similar to yours has already been asked, search for a suitable answer in that question's webpage. If you can not find a suitable answer, contine to step 2. If no such question exists or if the question is missing some information that you think may be important regarding your issue, create a new question with the `open-data-cube` tag.\n",
    "2. State your problem in the [ODC Slack workspace](http://slack.opendatacube.org/) in the most appropriate channel (use that link to join the workspace if you have not already). Use the **#general** channel if no other channel is more appropriate for your question. Link to the question on GIS Stack Exchange. When you receive an answer, add that answer to the question page on GIS Stack Exchange if the answerer is not available to do so. This preserves the answer in a publicly searchable way - which is useful for remembering answers to one's own past questions and benefits the community.\n",
    "\n",
    "## More\n",
    "-------\n",
    "\n",
    "You may also consider running a webapp that uses the Open Data Cube. The CEOS ODC UI repository is [here](https://github.com/ceos-seo/data_cube_ui)."
   ]
  }
 ],
 "metadata": {
  "kernelspec": {
   "display_name": "Python 3",
   "language": "python",
   "name": "python3"
  },
  "language_info": {
   "codemirror_mode": {
    "name": "ipython",
    "version": 3
   },
   "file_extension": ".py",
   "mimetype": "text/x-python",
   "name": "python",
   "nbconvert_exporter": "python",
   "pygments_lexer": "ipython3",
   "version": "3.6.9"
  }
 },
 "nbformat": 4,
 "nbformat_minor": 4
}
